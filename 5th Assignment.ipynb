{
 "cells": [
  {
   "cell_type": "code",
   "execution_count": 148,
   "metadata": {},
   "outputs": [],
   "source": [
    "import numpy as np\n",
    "import pandas as pd\n",
    "from sklearn.preprocessing import LabelEncoder\n",
    "from sklearn.cluster import KMeans\n",
    "from sklearn.datasets.samples_generator import make_blobs\n",
    "import matplotlib.pyplot as plt\n",
    "from mpl_toolkits.mplot3d import Axes3D"
   ]
  },
  {
   "cell_type": "code",
   "execution_count": 93,
   "metadata": {},
   "outputs": [],
   "source": [
    "train = pd.read_csv(\"iris.data\" , names=[\"A\", \"B\", \"C\", \"D\"]) # Added titles to collumn"
   ]
  },
  {
   "cell_type": "code",
   "execution_count": 94,
   "metadata": {},
   "outputs": [
    {
     "name": "stdout",
     "output_type": "stream",
     "text": [
      "<class 'pandas.core.frame.DataFrame'>\n",
      "Float64Index: 150 entries, 5.1 to 5.9\n",
      "Data columns (total 4 columns):\n",
      "A    150 non-null float64\n",
      "B    150 non-null float64\n",
      "C    150 non-null float64\n",
      "D    150 non-null object\n",
      "dtypes: float64(3), object(1)\n",
      "memory usage: 5.9+ KB\n"
     ]
    }
   ],
   "source": [
    "train.info()"
   ]
  },
  {
   "cell_type": "code",
   "execution_count": 95,
   "metadata": {},
   "outputs": [
    {
     "data": {
      "text/html": [
       "<div>\n",
       "<style scoped>\n",
       "    .dataframe tbody tr th:only-of-type {\n",
       "        vertical-align: middle;\n",
       "    }\n",
       "\n",
       "    .dataframe tbody tr th {\n",
       "        vertical-align: top;\n",
       "    }\n",
       "\n",
       "    .dataframe thead th {\n",
       "        text-align: right;\n",
       "    }\n",
       "</style>\n",
       "<table border=\"1\" class=\"dataframe\">\n",
       "  <thead>\n",
       "    <tr style=\"text-align: right;\">\n",
       "      <th></th>\n",
       "      <th>A</th>\n",
       "      <th>B</th>\n",
       "      <th>C</th>\n",
       "      <th>D</th>\n",
       "    </tr>\n",
       "  </thead>\n",
       "  <tbody>\n",
       "    <tr>\n",
       "      <th>5.1</th>\n",
       "      <td>3.5</td>\n",
       "      <td>1.4</td>\n",
       "      <td>0.2</td>\n",
       "      <td>Iris-setosa</td>\n",
       "    </tr>\n",
       "    <tr>\n",
       "      <th>4.9</th>\n",
       "      <td>3.0</td>\n",
       "      <td>1.4</td>\n",
       "      <td>0.2</td>\n",
       "      <td>Iris-setosa</td>\n",
       "    </tr>\n",
       "    <tr>\n",
       "      <th>4.7</th>\n",
       "      <td>3.2</td>\n",
       "      <td>1.3</td>\n",
       "      <td>0.2</td>\n",
       "      <td>Iris-setosa</td>\n",
       "    </tr>\n",
       "    <tr>\n",
       "      <th>4.6</th>\n",
       "      <td>3.1</td>\n",
       "      <td>1.5</td>\n",
       "      <td>0.2</td>\n",
       "      <td>Iris-setosa</td>\n",
       "    </tr>\n",
       "    <tr>\n",
       "      <th>5.0</th>\n",
       "      <td>3.6</td>\n",
       "      <td>1.4</td>\n",
       "      <td>0.2</td>\n",
       "      <td>Iris-setosa</td>\n",
       "    </tr>\n",
       "  </tbody>\n",
       "</table>\n",
       "</div>"
      ],
      "text/plain": [
       "       A    B    C            D\n",
       "5.1  3.5  1.4  0.2  Iris-setosa\n",
       "4.9  3.0  1.4  0.2  Iris-setosa\n",
       "4.7  3.2  1.3  0.2  Iris-setosa\n",
       "4.6  3.1  1.5  0.2  Iris-setosa\n",
       "5.0  3.6  1.4  0.2  Iris-setosa"
      ]
     },
     "execution_count": 95,
     "metadata": {},
     "output_type": "execute_result"
    }
   ],
   "source": [
    "train.head()"
   ]
  },
  {
   "cell_type": "code",
   "execution_count": 96,
   "metadata": {},
   "outputs": [
    {
     "data": {
      "text/plain": [
       "Iris-versicolor    50\n",
       "Iris-virginica     50\n",
       "Iris-setosa        50\n",
       "Name: D, dtype: int64"
      ]
     },
     "execution_count": 96,
     "metadata": {},
     "output_type": "execute_result"
    }
   ],
   "source": [
    "train['D'].value_counts()"
   ]
  },
  {
   "cell_type": "code",
   "execution_count": 97,
   "metadata": {},
   "outputs": [
    {
     "data": {
      "text/html": [
       "<div>\n",
       "<style scoped>\n",
       "    .dataframe tbody tr th:only-of-type {\n",
       "        vertical-align: middle;\n",
       "    }\n",
       "\n",
       "    .dataframe tbody tr th {\n",
       "        vertical-align: top;\n",
       "    }\n",
       "\n",
       "    .dataframe thead th {\n",
       "        text-align: right;\n",
       "    }\n",
       "</style>\n",
       "<table border=\"1\" class=\"dataframe\">\n",
       "  <thead>\n",
       "    <tr style=\"text-align: right;\">\n",
       "      <th></th>\n",
       "      <th>A</th>\n",
       "      <th>B</th>\n",
       "      <th>C</th>\n",
       "      <th>D</th>\n",
       "    </tr>\n",
       "  </thead>\n",
       "  <tbody>\n",
       "    <tr>\n",
       "      <th>5.1</th>\n",
       "      <td>3.5</td>\n",
       "      <td>1.4</td>\n",
       "      <td>0.2</td>\n",
       "      <td>0</td>\n",
       "    </tr>\n",
       "    <tr>\n",
       "      <th>4.9</th>\n",
       "      <td>3.0</td>\n",
       "      <td>1.4</td>\n",
       "      <td>0.2</td>\n",
       "      <td>0</td>\n",
       "    </tr>\n",
       "    <tr>\n",
       "      <th>4.7</th>\n",
       "      <td>3.2</td>\n",
       "      <td>1.3</td>\n",
       "      <td>0.2</td>\n",
       "      <td>0</td>\n",
       "    </tr>\n",
       "    <tr>\n",
       "      <th>4.6</th>\n",
       "      <td>3.1</td>\n",
       "      <td>1.5</td>\n",
       "      <td>0.2</td>\n",
       "      <td>0</td>\n",
       "    </tr>\n",
       "    <tr>\n",
       "      <th>5.0</th>\n",
       "      <td>3.6</td>\n",
       "      <td>1.4</td>\n",
       "      <td>0.2</td>\n",
       "      <td>0</td>\n",
       "    </tr>\n",
       "  </tbody>\n",
       "</table>\n",
       "</div>"
      ],
      "text/plain": [
       "       A    B    C  D\n",
       "5.1  3.5  1.4  0.2  0\n",
       "4.9  3.0  1.4  0.2  0\n",
       "4.7  3.2  1.3  0.2  0\n",
       "4.6  3.1  1.5  0.2  0\n",
       "5.0  3.6  1.4  0.2  0"
      ]
     },
     "execution_count": 97,
     "metadata": {},
     "output_type": "execute_result"
    }
   ],
   "source": [
    "label = LabelEncoder()\n",
    "train['D'] = label.fit_transform(train['D'])\n",
    "train.head()"
   ]
  },
  {
   "cell_type": "code",
   "execution_count": 98,
   "metadata": {},
   "outputs": [
    {
     "name": "stdout",
     "output_type": "stream",
     "text": [
      "<class 'pandas.core.frame.DataFrame'>\n",
      "Float64Index: 150 entries, 5.1 to 5.9\n",
      "Data columns (total 4 columns):\n",
      "A    150 non-null float64\n",
      "B    150 non-null float64\n",
      "C    150 non-null float64\n",
      "D    150 non-null int64\n",
      "dtypes: float64(3), int64(1)\n",
      "memory usage: 5.9 KB\n"
     ]
    }
   ],
   "source": [
    "train.info()"
   ]
  },
  {
   "cell_type": "code",
   "execution_count": 99,
   "metadata": {},
   "outputs": [],
   "source": [
    "kmeans = KMeans(n_clusters=3).fit(train) #seting k=3 It's a number of clusters"
   ]
  },
  {
   "cell_type": "code",
   "execution_count": 100,
   "metadata": {},
   "outputs": [
    {
     "name": "stdout",
     "output_type": "stream",
     "text": [
      "Inertia: 173.23922119644567\n",
      "Centroids: [[7.475      3.125      6.3        2.05       2.        ]\n",
      " [6.3        2.925      5.0328125  1.790625   1.59375   ]\n",
      " [5.18493151 3.14931507 2.25616438 0.55342466 0.32876712]]\n"
     ]
    }
   ],
   "source": [
    "print('Inertia:', model.inertia_)\n",
    "print('Centroids:', model.cluster_centers_)"
   ]
  },
  {
   "cell_type": "code",
   "execution_count": 109,
   "metadata": {},
   "outputs": [
    {
     "name": "stdout",
     "output_type": "stream",
     "text": [
      "\n",
      "Centroid attempt:  0\n",
      "Iteration:  0\n",
      "Inertia: 50.209070748299325\n",
      "Centroids: [[2.98367347 5.57346939 2.03265306 2.        ]\n",
      " [2.76470588 4.26470588 1.33333333 1.01960784]\n",
      " [3.418      1.464      0.244      0.        ]]\n",
      "Iteration:  1\n",
      "Inertia: 50.209070748299325\n",
      "Centroids: [[2.98367347 5.57346939 2.03265306 2.        ]\n",
      " [2.76470588 4.26470588 1.33333333 1.01960784]\n",
      " [3.418      1.464      0.244      0.        ]]\n",
      "Iteration:  2\n",
      "Inertia: 50.209070748299325\n",
      "Centroids: [[2.98367347 5.57346939 2.03265306 2.        ]\n",
      " [2.76470588 4.26470588 1.33333333 1.01960784]\n",
      " [3.418      1.464      0.244      0.        ]]\n",
      "Difference between initial and final inertia:  0.0\n",
      "\n",
      "Centroid attempt:  1\n",
      "Iteration:  0\n",
      "Inertia: 50.87478422609937\n",
      "Centroids: [[2.75818182 4.30909091 1.36181818 1.09090909]\n",
      " [3.418      1.464      0.244      0.        ]\n",
      " [3.01111111 5.63555556 2.06       2.        ]]\n",
      "Iteration:  1\n",
      "Inertia: 50.87478422609937\n",
      "Centroids: [[2.75818182 4.30909091 1.36181818 1.09090909]\n",
      " [3.418      1.464      0.244      0.        ]\n",
      " [3.01111111 5.63555556 2.06       2.        ]]\n",
      "Iteration:  2\n",
      "Inertia: 50.87478422609937\n",
      "Centroids: [[2.75818182 4.30909091 1.36181818 1.09090909]\n",
      " [3.418      1.464      0.244      0.        ]\n",
      " [3.01111111 5.63555556 2.06       2.        ]]\n",
      "Difference between initial and final inertia:  6.337707619694207\n",
      "\n",
      "Centroid attempt:  2\n",
      "Iteration:  0\n",
      "Inertia: 50.26332000000001\n",
      "Centroids: [[3.418 1.464 0.244 0.   ]\n",
      " [2.77  4.26  1.326 1.   ]\n",
      " [2.974 5.552 2.026 2.   ]]\n",
      "Iteration:  1\n",
      "Inertia: 50.26332000000001\n",
      "Centroids: [[3.418 1.464 0.244 0.   ]\n",
      " [2.77  4.26  1.326 1.   ]\n",
      " [2.974 5.552 2.026 2.   ]]\n",
      "Iteration:  2\n",
      "Inertia: 50.26332000000001\n",
      "Centroids: [[3.418 1.464 0.244 0.   ]\n",
      " [2.77  4.26  1.326 1.   ]\n",
      " [2.974 5.552 2.026 2.   ]]\n",
      "Difference between initial and final inertia:  2.7427067800183877\n",
      "\n",
      "Centroid attempt:  3\n",
      "Iteration:  0\n",
      "Inertia: 50.85952479659764\n",
      "Centroids: [[3.418      1.464      0.244      0.        ]\n",
      " [3.01153846 5.52884615 2.01346154 1.92307692]\n",
      " [2.72083333 4.23125    1.31041667 1.04166667]]\n",
      "Iteration:  1\n",
      "Inertia: 50.85952479659764\n",
      "Centroids: [[3.418      1.464      0.244      0.        ]\n",
      " [3.01153846 5.52884615 2.01346154 1.92307692]\n",
      " [2.72083333 4.23125    1.31041667 1.04166667]]\n",
      "Iteration:  2\n",
      "Inertia: 50.85952479659764\n",
      "Centroids: [[3.418      1.464      0.244      0.        ]\n",
      " [3.01153846 5.52884615 2.01346154 1.92307692]\n",
      " [2.72083333 4.23125    1.31041667 1.04166667]]\n",
      "Difference between initial and final inertia:  35.87684765913191\n",
      "\n",
      "Centroid attempt:  4\n",
      "Iteration:  0\n",
      "Inertia: 126.250101010101\n",
      "Centroids: [[3.20555556 1.5        0.25555556 0.02777778]\n",
      " [3.86666667 1.48       0.27333333 0.        ]\n",
      " [2.87575758 4.92525253 1.68181818 1.50505051]]\n",
      "Iteration:  1\n",
      "Inertia: 126.250101010101\n",
      "Centroids: [[3.20555556 1.5        0.25555556 0.02777778]\n",
      " [3.86666667 1.48       0.27333333 0.        ]\n",
      " [2.87575758 4.92525253 1.68181818 1.50505051]]\n",
      "Iteration:  2\n",
      "Inertia: 126.250101010101\n",
      "Centroids: [[3.20555556 1.5        0.25555556 0.02777778]\n",
      " [3.86666667 1.48       0.27333333 0.        ]\n",
      " [2.87575758 4.92525253 1.68181818 1.50505051]]\n",
      "Difference between initial and final inertia:  0.5852009716438715\n"
     ]
    }
   ],
   "source": [
    "final_centroids = []\n",
    "final_inertia = []\n",
    "    \n",
    "for sample in range(5): #Number of Attempt is 5\n",
    "    print('\\nCentroid attempt: ', sample)\n",
    "    model = KMeans(n_clusters=3, init='random', max_iter=1, n_init=1)\n",
    "    model.fit(train)\n",
    "    inertia_start = model.inertia_\n",
    "    intertia_end = 0\n",
    "    cents = model.cluster_centers_\n",
    "        \n",
    "    for iter in range(3):\n",
    "        model = KMeans(n_clusters=3, init=cents, max_iter=1, n_init=1)\n",
    "        model.fit(train)\n",
    "        print('Iteration: ', iter)\n",
    "        print('Inertia:', model.inertia_)\n",
    "        print('Centroids:', model.cluster_centers_)\n",
    "        inertia_end = model.inertia_\n",
    "        centroids = model.cluster_centers_\n",
    "\n",
    "    final_centroids.append(centroids)\n",
    "    final_inertia.append(inertia_end)\n",
    "    print('Difference between initial and final inertia: ', inertia_start-inertia_end)"
   ]
  },
  {
   "cell_type": "code",
   "execution_count": 110,
   "metadata": {},
   "outputs": [
    {
     "data": {
      "text/plain": [
       "array([[2.98367347, 5.57346939, 2.03265306, 2.        ],\n",
       "       [2.76470588, 4.26470588, 1.33333333, 1.01960784],\n",
       "       [3.418     , 1.464     , 0.244     , 0.        ]])"
      ]
     },
     "execution_count": 110,
     "metadata": {},
     "output_type": "execute_result"
    }
   ],
   "source": [
    "best_centroids = final_centroids[final_inertia.index(min(final_inertia))]\n",
    "best_centroids"
   ]
  },
  {
   "cell_type": "code",
   "execution_count": 111,
   "metadata": {},
   "outputs": [
    {
     "name": "stdout",
     "output_type": "stream",
     "text": [
      "[0 0 0 0 1 1 0 0 0 0 1 0 0 0 1 1 1 0 1 1 0 1 1 0 0 0 0 0 0 0 0 0 1 1 0 0 0\n",
      " 0 0 0 0 0 0 0 1 0 1 0 1 0 2 2 2 2 2 2 2 2 2 2 2 2 2 2 2 2 2 2 2 2 2 2 2 2\n",
      " 2 2 2 2 2 2 2 2 2 2 2 2 2 2 2 2 2 2 2 2 2 2 2 2 0 2 2 2 2 2 2 2 2 2 2 2 2\n",
      " 2 2 2 2 2 2 2 2 2 2 2 2 2 2 2 2 2 2 2 2 2 2 2 2 2 2 2 2 2 2 2 2 2 2 2 2 2\n",
      " 2 2]\n"
     ]
    }
   ],
   "source": [
    "print(model.labels_)"
   ]
  },
  {
   "cell_type": "code",
   "execution_count": 143,
   "metadata": {},
   "outputs": [],
   "source": [
    "X, y = make_blobs(n_samples=2500, cluster_std=[0.5, 2, 0.5],random_state=1, centers=best_centroids)\n",
    "y_pred = KMeans(n_clusters=3,random_state=1).fit_predict(X)"
   ]
  },
  {
   "cell_type": "code",
   "execution_count": 150,
   "metadata": {},
   "outputs": [
    {
     "data": {
      "image/png": "[encoded data removed]",
      "text/plain": [
       "<Figure size 576x432 with 1 Axes>"
      ]
     },
     "metadata": {
      "needs_background": "light"
     },
     "output_type": "display_data"
    }
   ],
   "source": [
    "# Visualizing\n",
    "plt.figure(figsize=(8, 6))\n",
    "plt.scatter(X[:, 0], X[:, 1], c=y_pred , cmap='rainbow')\n",
    "plt.scatter(best_centroids[:, 0], best_centroids[:, 1], s=300, c='yellow')#centers of clusters\n",
    "plt.show()"
   ]
  }
 ],
 "metadata": {
  "kernelspec": {
   "display_name": "Python 3",
   "language": "python",
   "name": "python3"
  },
  "language_info": {
   "codemirror_mode": {
    "name": "ipython",
    "version": 3
   },
   "file_extension": ".py",
   "mimetype": "text/x-python",
   "name": "python",
   "nbconvert_exporter": "python",
   "pygments_lexer": "ipython3",
   "version": "3.7.3"
  }
 },
 "nbformat": 4,
 "nbformat_minor": 2
}
